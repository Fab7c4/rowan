{
 "cells": [
  {
   "cell_type": "code",
   "execution_count": 1,
   "metadata": {},
   "outputs": [],
   "source": [
    "import timeit\n",
    "import tqdm\n",
    "import pprint\n",
    "import numpy as np\n",
    "import pandas as pd\n",
    "from matplotlib import pyplot as plt"
   ]
  },
  {
   "cell_type": "code",
   "execution_count": 2,
   "metadata": {},
   "outputs": [],
   "source": [
    "plt.rcParams['text.usetex'] = True\n",
    "plt.rcParams['axes.labelsize'] = 16\n",
    "plt.rcParams['font.size'] = 16\n",
    "plt.rcParams['legend.fontsize'] = 'large'"
   ]
  },
  {
   "cell_type": "code",
   "execution_count": 3,
   "metadata": {},
   "outputs": [
    {
     "name": "stderr",
     "output_type": "stream",
     "text": [
      "/home/vramasub/.local/lib/python3.6/site-packages/quaternion/numba_wrapper.py:29: UserWarning: \n",
      "\n",
      "!!!!!!!!!!!!!!!!!!!!!!!!!!!!!!!!!!!!!!!!!!!!!!!!!!!!!\n",
      "Could not import from either numbapro or numba.\n",
      "This means that the code will run MUCH more slowly.\n",
      "You probably REALLY want to install numba / numbapro.\n",
      "!!!!!!!!!!!!!!!!!!!!!!!!!!!!!!!!!!!!!!!!!!!!!!!!!!!!!\n",
      "\n",
      "  warnings.warn(warning_text)\n"
     ]
    }
   ],
   "source": [
    "import pyquaternion # pip install pyquaternion --user\n",
    "import quaternion # pip install numpy_quaternion --user\n",
    "import rowan # pip install rowan --user"
   ]
  },
  {
   "cell_type": "code",
   "execution_count": 4,
   "metadata": {},
   "outputs": [],
   "source": [
    "def arr_to_pyquat(arr):\n",
    "    if len(arr.shape) > 1:\n",
    "        pq_arr = np.empty(arr.shape[:-1], dtype='object')\n",
    "        for i, x in enumerate(arr):\n",
    "            pq_arr[i] = pyquaternion.Quaternion(x)\n",
    "    else:\n",
    "        pq_arr = np.array([pyquaternion.Quaternion(arr)])\n",
    "    return pq_arr\n",
    "\n",
    "def arr_to_npquat(arr):\n",
    "    return quaternion.as_quat_array(arr)\n",
    "\n",
    "pyquat_times = {}\n",
    "quat_times = {}\n",
    "rowan_times = {}\n",
    "Ns = [10, 100000]\n",
    "num = 10\n",
    "pqlim = 1e8"
   ]
  },
  {
   "cell_type": "code",
   "execution_count": 5,
   "metadata": {},
   "outputs": [
    {
     "data": {
      "application/vnd.jupyter.widget-view+json": {
       "model_id": "18a605305ff7419fb621c019ee388cea",
       "version_major": 2,
       "version_minor": 0
      },
      "text/plain": [
       "HBox(children=(IntProgress(value=0, max=2), HTML(value='')))"
      ]
     },
     "metadata": {},
     "output_type": "display_data"
    },
    {
     "name": "stdout",
     "output_type": "stream",
     "text": [
      "\n"
     ]
    }
   ],
   "source": [
    "pyquat_times['Multiply'] = []\n",
    "quat_times['Multiply'] = []\n",
    "rowan_times['Multiply'] = []\n",
    "for N in tqdm.tqdm_notebook(Ns):\n",
    "    x = rowan.random.rand(N)\n",
    "    y = rowan.random.rand(N)\n",
    "\n",
    "    if N < pqlim:\n",
    "        pyquat_times['Multiply'].append(\n",
    "            timeit.timeit(\n",
    "                \"x*y\",\n",
    "                setup=\"from __main__ import x, y, arr_to_pyquat; x = arr_to_pyquat(x); y = arr_to_pyquat(y)\",\n",
    "                number = num\n",
    "            )\n",
    "        )\n",
    "    quat_times['Multiply'].append(\n",
    "        timeit.timeit(\n",
    "            \"x*y\",\n",
    "            setup=\"from __main__ import x, y, arr_to_npquat; x = arr_to_npquat(x); y = arr_to_npquat(y)\",\n",
    "            number = num\n",
    "        )\n",
    "    )\n",
    "    rowan_times['Multiply'].append(\n",
    "        timeit.timeit(\n",
    "            \"rowan.multiply(x, y)\",\n",
    "            setup=\"from __main__ import x, y, rowan\",\n",
    "            number = num\n",
    "        )\n",
    "    )"
   ]
  },
  {
   "cell_type": "code",
   "execution_count": 6,
   "metadata": {},
   "outputs": [
    {
     "data": {
      "application/vnd.jupyter.widget-view+json": {
       "model_id": "64254d294cad425d93e17b629d6f468d",
       "version_major": 2,
       "version_minor": 0
      },
      "text/plain": [
       "HBox(children=(IntProgress(value=0, max=2), HTML(value='')))"
      ]
     },
     "metadata": {},
     "output_type": "display_data"
    },
    {
     "name": "stdout",
     "output_type": "stream",
     "text": [
      "\n"
     ]
    }
   ],
   "source": [
    "pyquat_times['Exponential'] = []\n",
    "quat_times['Exponential'] = []\n",
    "rowan_times['Exponential'] = []\n",
    "for N in tqdm.tqdm_notebook(Ns):\n",
    "    x = rowan.random.rand(N)\n",
    "\n",
    "    if N < pqlim:\n",
    "        pyquat_times['Exponential'].append(\n",
    "            timeit.timeit(\n",
    "                \"for i in range(len(x)): pyquaternion.Quaternion.exp(x[i])\",\n",
    "                setup=\"from __main__ import x, pyquaternion, arr_to_pyquat; x = arr_to_pyquat(x);\",\n",
    "                number = num\n",
    "            )\n",
    "        )\n",
    "    quat_times['Exponential'].append(\n",
    "        timeit.timeit(\n",
    "            \"np.exp(x)\",\n",
    "            setup=\"from __main__ import x, arr_to_npquat, np; x = arr_to_npquat(x);\",\n",
    "            number = num\n",
    "        )\n",
    "    )\n",
    "    rowan_times['Exponential'].append(\n",
    "        timeit.timeit(\n",
    "            \"rowan.exp(x)\",\n",
    "            setup=\"from __main__ import x, rowan\",\n",
    "            number = num\n",
    "        )\n",
    "    )"
   ]
  },
  {
   "cell_type": "code",
   "execution_count": 7,
   "metadata": {},
   "outputs": [
    {
     "data": {
      "application/vnd.jupyter.widget-view+json": {
       "model_id": "8c597c9f39a842c3b4c008e8f0cd6167",
       "version_major": 2,
       "version_minor": 0
      },
      "text/plain": [
       "HBox(children=(IntProgress(value=0, max=2), HTML(value='')))"
      ]
     },
     "metadata": {},
     "output_type": "display_data"
    },
    {
     "name": "stdout",
     "output_type": "stream",
     "text": [
      "\n"
     ]
    }
   ],
   "source": [
    "pyquat_times['Conjugate'] = []\n",
    "quat_times['Conjugate'] = []\n",
    "rowan_times['Conjugate'] = []\n",
    "for N in tqdm.tqdm_notebook(Ns):\n",
    "    x = rowan.random.rand(N)\n",
    "\n",
    "    if N < pqlim:\n",
    "        pyquat_times['Conjugate'].append(\n",
    "            timeit.timeit(\n",
    "                \"for i in range(len(x)): x.conjugate\",\n",
    "                setup=\"from __main__ import x, arr_to_pyquat; x = arr_to_pyquat(x);\",\n",
    "                number = num\n",
    "            )\n",
    "        )\n",
    "    quat_times['Conjugate'].append(\n",
    "        timeit.timeit(\n",
    "            \"x.conjugate()\",\n",
    "            setup=\"from __main__ import x, arr_to_npquat; x = arr_to_npquat(x);\",\n",
    "            number = num\n",
    "        )\n",
    "    )\n",
    "    rowan_times['Conjugate'].append(\n",
    "        timeit.timeit(\n",
    "            \"rowan.conjugate(x)\",\n",
    "            setup=\"from __main__ import x, rowan\",\n",
    "            number = num\n",
    "        )\n",
    "    )"
   ]
  },
  {
   "cell_type": "code",
   "execution_count": 8,
   "metadata": {},
   "outputs": [
    {
     "data": {
      "application/vnd.jupyter.widget-view+json": {
       "model_id": "3b41e29b32ea4a9eab6eb6f1c02beaa0",
       "version_major": 2,
       "version_minor": 0
      },
      "text/plain": [
       "HBox(children=(IntProgress(value=0, max=2), HTML(value='')))"
      ]
     },
     "metadata": {},
     "output_type": "display_data"
    },
    {
     "name": "stdout",
     "output_type": "stream",
     "text": [
      "\n"
     ]
    }
   ],
   "source": [
    "pyquat_times['Norm'] = []\n",
    "quat_times['Norm'] = []\n",
    "rowan_times['Norm'] = []\n",
    "for N in tqdm.tqdm_notebook(Ns):\n",
    "    x = rowan.random.rand(N)\n",
    "\n",
    "    if N < pqlim:\n",
    "        pyquat_times['Norm'].append(\n",
    "            timeit.timeit(\n",
    "                \"for i in range(len(x)): x[i].norm\",\n",
    "                setup=\"from __main__ import x, arr_to_pyquat; x = arr_to_pyquat(x);\",\n",
    "                number = num\n",
    "            )\n",
    "        )\n",
    "    quat_times['Norm'].append(\n",
    "        timeit.timeit(\n",
    "            \"np.abs(x)\",\n",
    "            setup=\"from __main__ import x, np, arr_to_npquat; x = arr_to_npquat(x);\",\n",
    "            number = num\n",
    "        )\n",
    "    )\n",
    "    rowan_times['Norm'].append(\n",
    "        timeit.timeit(\n",
    "            \"rowan.norm(x)\",\n",
    "            setup=\"from __main__ import x, rowan\",\n",
    "            number = num\n",
    "        )\n",
    "    )"
   ]
  },
  {
   "cell_type": "code",
   "execution_count": 9,
   "metadata": {},
   "outputs": [
    {
     "data": {
      "application/vnd.jupyter.widget-view+json": {
       "model_id": "c843c9c803e9434981dd8fcdfdcebccd",
       "version_major": 2,
       "version_minor": 0
      },
      "text/plain": [
       "HBox(children=(IntProgress(value=0, max=2), HTML(value='')))"
      ]
     },
     "metadata": {},
     "output_type": "display_data"
    },
    {
     "name": "stdout",
     "output_type": "stream",
     "text": [
      "\n"
     ]
    }
   ],
   "source": [
    "pyquat_times['To Matrix'] = []\n",
    "quat_times['To Matrix'] = []\n",
    "rowan_times['To Matrix'] = []\n",
    "for N in tqdm.tqdm_notebook(Ns):\n",
    "    x = rowan.random.rand(N)\n",
    "\n",
    "    if N < pqlim:\n",
    "        pyquat_times['To Matrix'].append(\n",
    "            timeit.timeit(\n",
    "                \"for i in range(len(x)): x[i].rotation_matrix\",\n",
    "                setup=\"from __main__ import x, arr_to_pyquat; x = arr_to_pyquat(x);\",\n",
    "                number = num\n",
    "            )\n",
    "        )\n",
    "    quat_times['To Matrix'].append(\n",
    "        timeit.timeit(\n",
    "            \"quaternion.as_rotation_matrix(x)\",\n",
    "            setup=\"from __main__ import x, quaternion, arr_to_npquat; x = arr_to_npquat(x);\",\n",
    "            number = num\n",
    "        )\n",
    "    )\n",
    "    rowan_times['To Matrix'].append(\n",
    "        timeit.timeit(\n",
    "            \"rowan.to_matrix(x)\",\n",
    "            setup=\"from __main__ import x, rowan\",\n",
    "            number = num\n",
    "        )\n",
    "    )"
   ]
  },
  {
   "cell_type": "code",
   "execution_count": 10,
   "metadata": {},
   "outputs": [],
   "source": [
    "pyquat_times['N'] = list(np.array(Ns)[np.array(Ns) < pqlim])\n",
    "quat_times['N'] = Ns\n",
    "rowan_times['N'] = Ns"
   ]
  },
  {
   "cell_type": "code",
   "execution_count": 11,
   "metadata": {},
   "outputs": [],
   "source": [
    "df_pq = pd.DataFrame(pyquat_times).melt(id_vars=\"N\", var_name=\"operation\", value_name=\"pyquaternion\")\n",
    "df_nq = pd.DataFrame(quat_times).melt(id_vars=\"N\", var_name=\"operation\", value_name=\"npquaternion\")\n",
    "df_r = pd.DataFrame(rowan_times).melt(id_vars=\"N\", var_name=\"operation\", value_name=\"rowan\")\n",
    "df = df_r.merge(df_nq, on =[\"N\", \"operation\"])\n",
    "df = df.merge(df_pq, on =[\"N\", \"operation\"], how = \"left\")\n",
    "df.fillna(0, inplace=True)\n",
    "df['pyquaternion'] /= df['N']\n",
    "df['pyquaternion'] *= 1e6\n",
    "df['npquaternion'] /= df['N']\n",
    "df['npquaternion'] *= 1e6\n",
    "df['rowan'] /= df['N']\n",
    "df['rowan'] *= 1e6"
   ]
  },
  {
   "cell_type": "code",
   "execution_count": 12,
   "metadata": {},
   "outputs": [
    {
     "data": {
      "text/html": [
       "<div>\n",
       "<style scoped>\n",
       "    .dataframe tbody tr th:only-of-type {\n",
       "        vertical-align: middle;\n",
       "    }\n",
       "\n",
       "    .dataframe tbody tr th {\n",
       "        vertical-align: top;\n",
       "    }\n",
       "\n",
       "    .dataframe thead th {\n",
       "        text-align: right;\n",
       "    }\n",
       "</style>\n",
       "<table border=\"1\" class=\"dataframe\">\n",
       "  <thead>\n",
       "    <tr style=\"text-align: right;\">\n",
       "      <th></th>\n",
       "      <th></th>\n",
       "      <th>rowan</th>\n",
       "      <th>npquaternion</th>\n",
       "      <th>pyquaternion</th>\n",
       "      <th>rowan vs. npq</th>\n",
       "      <th>pyq vs. rowan</th>\n",
       "    </tr>\n",
       "    <tr>\n",
       "      <th>N</th>\n",
       "      <th>operation</th>\n",
       "      <th></th>\n",
       "      <th></th>\n",
       "      <th></th>\n",
       "      <th></th>\n",
       "      <th></th>\n",
       "    </tr>\n",
       "  </thead>\n",
       "  <tbody>\n",
       "    <tr>\n",
       "      <th rowspan=\"5\" valign=\"top\">10</th>\n",
       "      <th>Conjugate</th>\n",
       "      <td>14.586421</td>\n",
       "      <td>1.644809</td>\n",
       "      <td>0.947318</td>\n",
       "      <td>8.868156</td>\n",
       "      <td>0.064945</td>\n",
       "    </tr>\n",
       "    <tr>\n",
       "      <th>Exponential</th>\n",
       "      <td>127.592287</td>\n",
       "      <td>2.700998</td>\n",
       "      <td>521.440292</td>\n",
       "      <td>47.238934</td>\n",
       "      <td>4.086770</td>\n",
       "    </tr>\n",
       "    <tr>\n",
       "      <th>Multiply</th>\n",
       "      <td>143.253407</td>\n",
       "      <td>2.314406</td>\n",
       "      <td>267.919688</td>\n",
       "      <td>61.896391</td>\n",
       "      <td>1.870250</td>\n",
       "    </tr>\n",
       "    <tr>\n",
       "      <th>Norm</th>\n",
       "      <td>15.829806</td>\n",
       "      <td>1.184107</td>\n",
       "      <td>39.275899</td>\n",
       "      <td>13.368563</td>\n",
       "      <td>2.481136</td>\n",
       "    </tr>\n",
       "    <tr>\n",
       "      <th>To Matrix</th>\n",
       "      <td>196.876097</td>\n",
       "      <td>141.610601</td>\n",
       "      <td>247.702608</td>\n",
       "      <td>1.390264</td>\n",
       "      <td>1.258165</td>\n",
       "    </tr>\n",
       "    <tr>\n",
       "      <th rowspan=\"5\" valign=\"top\">100000</th>\n",
       "      <th>Conjugate</th>\n",
       "      <td>0.145949</td>\n",
       "      <td>0.027319</td>\n",
       "      <td>0.492793</td>\n",
       "      <td>5.342298</td>\n",
       "      <td>3.376483</td>\n",
       "    </tr>\n",
       "    <tr>\n",
       "      <th>Exponential</th>\n",
       "      <td>1.423592</td>\n",
       "      <td>0.610161</td>\n",
       "      <td>369.216979</td>\n",
       "      <td>2.333142</td>\n",
       "      <td>259.355814</td>\n",
       "    </tr>\n",
       "    <tr>\n",
       "      <th>Multiply</th>\n",
       "      <td>0.734740</td>\n",
       "      <td>0.060439</td>\n",
       "      <td>178.193753</td>\n",
       "      <td>12.156796</td>\n",
       "      <td>242.526426</td>\n",
       "    </tr>\n",
       "    <tr>\n",
       "      <th>Norm</th>\n",
       "      <td>0.171715</td>\n",
       "      <td>0.030518</td>\n",
       "      <td>12.802495</td>\n",
       "      <td>5.626726</td>\n",
       "      <td>74.556451</td>\n",
       "    </tr>\n",
       "    <tr>\n",
       "      <th>To Matrix</th>\n",
       "      <td>0.864446</td>\n",
       "      <td>0.871237</td>\n",
       "      <td>164.930106</td>\n",
       "      <td>0.992206</td>\n",
       "      <td>190.792875</td>\n",
       "    </tr>\n",
       "  </tbody>\n",
       "</table>\n",
       "</div>"
      ],
      "text/plain": [
       "                         rowan  npquaternion  pyquaternion  rowan vs. npq  \\\n",
       "N      operation                                                            \n",
       "10     Conjugate     14.586421      1.644809      0.947318       8.868156   \n",
       "       Exponential  127.592287      2.700998    521.440292      47.238934   \n",
       "       Multiply     143.253407      2.314406    267.919688      61.896391   \n",
       "       Norm          15.829806      1.184107     39.275899      13.368563   \n",
       "       To Matrix    196.876097    141.610601    247.702608       1.390264   \n",
       "100000 Conjugate      0.145949      0.027319      0.492793       5.342298   \n",
       "       Exponential    1.423592      0.610161    369.216979       2.333142   \n",
       "       Multiply       0.734740      0.060439    178.193753      12.156796   \n",
       "       Norm           0.171715      0.030518     12.802495       5.626726   \n",
       "       To Matrix      0.864446      0.871237    164.930106       0.992206   \n",
       "\n",
       "                    pyq vs. rowan  \n",
       "N      operation                   \n",
       "10     Conjugate         0.064945  \n",
       "       Exponential       4.086770  \n",
       "       Multiply          1.870250  \n",
       "       Norm              2.481136  \n",
       "       To Matrix         1.258165  \n",
       "100000 Conjugate         3.376483  \n",
       "       Exponential     259.355814  \n",
       "       Multiply        242.526426  \n",
       "       Norm             74.556451  \n",
       "       To Matrix       190.792875  "
      ]
     },
     "execution_count": 12,
     "metadata": {},
     "output_type": "execute_result"
    }
   ],
   "source": [
    "view = df.groupby([\"N\", \"operation\"]).mean()\n",
    "view['rowan vs. npq'] = view['rowan']/view['npquaternion']\n",
    "view['pyq vs. rowan'] = view['pyquaternion']/view['rowan']\n",
    "view"
   ]
  },
  {
   "cell_type": "code",
   "execution_count": 21,
   "metadata": {
    "code_folding": [],
    "scrolled": false
   },
   "outputs": [
    {
     "data": {
      "image/png": "[encoded data removed]",
      "text/plain": [
       "<Figure size 720x1296 with 2 Axes>"
      ]
     },
     "metadata": {},
     "output_type": "display_data"
    }
   ],
   "source": [
    "cols = list(col['color'] for col in plt.rcParams['axes.prop_cycle'])\n",
    "fig, axes = plt.subplots(2, 1, figsize=(10, 18))\n",
    "ax = df[df['N'] == Ns[0]].drop(['N'], axis=1).groupby(\n",
    "    [\"operation\"]).mean().plot.barh(ax=axes[0], logx=True, color = cols[0:3],\n",
    "                                    title=\"$\\log_{{10}}(N) = {}$\".format(int(np.log10(Ns[0]))),\n",
    "                                    xlim=(10**-2, 10**3), legend=False)\n",
    "ax = df[df['N'] == Ns[1]].drop(['N'], axis=1).groupby(\n",
    "    [\"operation\"]).mean().plot.barh(ax=axes[1], logx=True, color = cols[0:3],\n",
    "                                    title=\"$\\log_{{10}}(N) = {}$\".format(int(np.log10(Ns[1]))),\n",
    "                                    xlim=(10**-2, 10**3), legend=False)\n",
    "ax.set_xlabel(\"$\\log_{10}(sec)$\")\n",
    "for ax in axes.flatten():\n",
    "    ax.set_ylabel(\"\")\n",
    "    ax.legend(loc='best')\n",
    "plt.show()\n",
    "fig.savefig(\"Performance.png\")"
   ]
  }
 ],
 "metadata": {
  "kernelspec": {
   "display_name": "Python 3",
   "language": "python",
   "name": "python3"
  },
  "language_info": {
   "codemirror_mode": {
    "name": "ipython",
    "version": 3
   },
   "file_extension": ".py",
   "mimetype": "text/x-python",
   "name": "python",
   "nbconvert_exporter": "python",
   "pygments_lexer": "ipython3",
   "version": "3.6.5"
  },
  "toc": {
   "nav_menu": {},
   "number_sections": true,
   "sideBar": true,
   "skip_h1_title": false,
   "title_cell": "Table of Contents",
   "title_sidebar": "Contents",
   "toc_cell": false,
   "toc_position": {},
   "toc_section_display": true,
   "toc_window_display": false
  }
 },
 "nbformat": 4,
 "nbformat_minor": 2
}
