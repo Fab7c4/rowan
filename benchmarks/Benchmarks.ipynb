{
 "cells": [
  {
   "cell_type": "code",
   "execution_count": 1,
   "metadata": {},
   "outputs": [],
   "source": [
    "import timeit\n",
    "import tqdm\n",
    "import pprint\n",
    "import numpy as np\n",
    "import pandas as pd\n",
    "from matplotlib import pyplot as plt"
   ]
  },
  {
   "cell_type": "code",
   "execution_count": 2,
   "metadata": {},
   "outputs": [],
   "source": [
    "plt.rcParams['text.usetex'] = True\n",
    "plt.rcParams['axes.labelsize'] = 16\n",
    "plt.rcParams['font.size'] = 16\n",
    "plt.rcParams['legend.fontsize'] = 'large'"
   ]
  },
  {
   "cell_type": "code",
   "execution_count": 3,
   "metadata": {},
   "outputs": [
    {
     "name": "stderr",
     "output_type": "stream",
     "text": [
      "/home/vramasub/.local/lib/python3.6/site-packages/quaternion/numba_wrapper.py:29: UserWarning: \n",
      "\n",
      "!!!!!!!!!!!!!!!!!!!!!!!!!!!!!!!!!!!!!!!!!!!!!!!!!!!!!\n",
      "Could not import from either numbapro or numba.\n",
      "This means that the code will run MUCH more slowly.\n",
      "You probably REALLY want to install numba / numbapro.\n",
      "!!!!!!!!!!!!!!!!!!!!!!!!!!!!!!!!!!!!!!!!!!!!!!!!!!!!!\n",
      "\n",
      "  warnings.warn(warning_text)\n"
     ]
    }
   ],
   "source": [
    "import pyquaternion # pip install pyquaternion --user\n",
    "import quaternion # pip install numpy_quaternion --user\n",
    "import rowan # pip install rowan --user"
   ]
  },
  {
   "cell_type": "code",
   "execution_count": 4,
   "metadata": {},
   "outputs": [],
   "source": [
    "def arr_to_pyquat(arr):\n",
    "    if len(arr.shape) > 1:\n",
    "        pq_arr = np.empty(arr.shape[:-1], dtype='object')\n",
    "        for i, x in enumerate(arr):\n",
    "            pq_arr[i] = pyquaternion.Quaternion(x)\n",
    "    else:\n",
    "        pq_arr = np.array([pyquaternion.Quaternion(arr)])\n",
    "    return pq_arr\n",
    "\n",
    "def arr_to_npquat(arr):\n",
    "    return quaternion.as_quat_array(arr)\n",
    "\n",
    "pyquat_times = {}\n",
    "quat_times = {}\n",
    "rowan_times = {}\n",
    "Ns = [10, 100000]\n",
    "num = 10\n",
    "pqlim = 1e8"
   ]
  },
  {
   "cell_type": "code",
   "execution_count": 5,
   "metadata": {},
   "outputs": [
    {
     "data": {
      "application/vnd.jupyter.widget-view+json": {
       "model_id": "e496f58588514bfbbf22562c131b98f5",
       "version_major": 2,
       "version_minor": 0
      },
      "text/plain": [
       "HBox(children=(IntProgress(value=0, max=2), HTML(value='')))"
      ]
     },
     "metadata": {},
     "output_type": "display_data"
    },
    {
     "name": "stdout",
     "output_type": "stream",
     "text": [
      "\n"
     ]
    }
   ],
   "source": [
    "pyquat_times['Multiply'] = []\n",
    "quat_times['Multiply'] = []\n",
    "rowan_times['Multiply'] = []\n",
    "for N in tqdm.tqdm_notebook(Ns):\n",
    "    x = rowan.random.rand(N)\n",
    "    y = rowan.random.rand(N)\n",
    "\n",
    "    if N < pqlim:\n",
    "        pyquat_times['Multiply'].append(\n",
    "            timeit.timeit(\n",
    "                \"x*y\",\n",
    "                setup=\"from __main__ import x, y, arr_to_pyquat; x = arr_to_pyquat(x); y = arr_to_pyquat(y)\",\n",
    "                number = num\n",
    "            )\n",
    "        )\n",
    "    quat_times['Multiply'].append(\n",
    "        timeit.timeit(\n",
    "            \"x*y\",\n",
    "            setup=\"from __main__ import x, y, arr_to_npquat; x = arr_to_npquat(x); y = arr_to_npquat(y)\",\n",
    "            number = num\n",
    "        )\n",
    "    )\n",
    "    rowan_times['Multiply'].append(\n",
    "        timeit.timeit(\n",
    "            \"rowan.multiply(x, y)\",\n",
    "            setup=\"from __main__ import x, y, rowan\",\n",
    "            number = num\n",
    "        )\n",
    "    )"
   ]
  },
  {
   "cell_type": "code",
   "execution_count": 6,
   "metadata": {},
   "outputs": [
    {
     "data": {
      "application/vnd.jupyter.widget-view+json": {
       "model_id": "b273c3f613a140fda92042083d7d661e",
       "version_major": 2,
       "version_minor": 0
      },
      "text/plain": [
       "HBox(children=(IntProgress(value=0, max=2), HTML(value='')))"
      ]
     },
     "metadata": {},
     "output_type": "display_data"
    },
    {
     "name": "stdout",
     "output_type": "stream",
     "text": [
      "\n"
     ]
    }
   ],
   "source": [
    "pyquat_times['Exponential'] = []\n",
    "quat_times['Exponential'] = []\n",
    "rowan_times['Exponential'] = []\n",
    "for N in tqdm.tqdm_notebook(Ns):\n",
    "    x = rowan.random.rand(N)\n",
    "\n",
    "    if N < pqlim:\n",
    "        pyquat_times['Exponential'].append(\n",
    "            timeit.timeit(\n",
    "                \"for i in range(len(x)): pyquaternion.Quaternion.exp(x[i])\",\n",
    "                setup=\"from __main__ import x, pyquaternion, arr_to_pyquat; x = arr_to_pyquat(x);\",\n",
    "                number = num\n",
    "            )\n",
    "        )\n",
    "    quat_times['Exponential'].append(\n",
    "        timeit.timeit(\n",
    "            \"np.exp(x)\",\n",
    "            setup=\"from __main__ import x, arr_to_npquat, np; x = arr_to_npquat(x);\",\n",
    "            number = num\n",
    "        )\n",
    "    )\n",
    "    rowan_times['Exponential'].append(\n",
    "        timeit.timeit(\n",
    "            \"rowan.exp(x)\",\n",
    "            setup=\"from __main__ import x, rowan\",\n",
    "            number = num\n",
    "        )\n",
    "    )"
   ]
  },
  {
   "cell_type": "code",
   "execution_count": 7,
   "metadata": {},
   "outputs": [
    {
     "data": {
      "application/vnd.jupyter.widget-view+json": {
       "model_id": "5558294252e84cf997fb0a8c7c99bdfa",
       "version_major": 2,
       "version_minor": 0
      },
      "text/plain": [
       "HBox(children=(IntProgress(value=0, max=2), HTML(value='')))"
      ]
     },
     "metadata": {},
     "output_type": "display_data"
    },
    {
     "name": "stdout",
     "output_type": "stream",
     "text": [
      "\n"
     ]
    }
   ],
   "source": [
    "pyquat_times['Conjugate'] = []\n",
    "quat_times['Conjugate'] = []\n",
    "rowan_times['Conjugate'] = []\n",
    "for N in tqdm.tqdm_notebook(Ns):\n",
    "    x = rowan.random.rand(N)\n",
    "\n",
    "    if N < pqlim:\n",
    "        pyquat_times['Conjugate'].append(\n",
    "            timeit.timeit(\n",
    "                \"for i in range(len(x)): x.conjugate\",\n",
    "                setup=\"from __main__ import x, arr_to_pyquat; x = arr_to_pyquat(x);\",\n",
    "                number = num\n",
    "            )\n",
    "        )\n",
    "    quat_times['Conjugate'].append(\n",
    "        timeit.timeit(\n",
    "            \"x.conjugate()\",\n",
    "            setup=\"from __main__ import x, arr_to_npquat; x = arr_to_npquat(x);\",\n",
    "            number = num\n",
    "        )\n",
    "    )\n",
    "    rowan_times['Conjugate'].append(\n",
    "        timeit.timeit(\n",
    "            \"rowan.conjugate(x)\",\n",
    "            setup=\"from __main__ import x, rowan\",\n",
    "            number = num\n",
    "        )\n",
    "    )"
   ]
  },
  {
   "cell_type": "code",
   "execution_count": 8,
   "metadata": {},
   "outputs": [
    {
     "data": {
      "application/vnd.jupyter.widget-view+json": {
       "model_id": "398349ebdcc34f09a150b752cf12ec41",
       "version_major": 2,
       "version_minor": 0
      },
      "text/plain": [
       "HBox(children=(IntProgress(value=0, max=2), HTML(value='')))"
      ]
     },
     "metadata": {},
     "output_type": "display_data"
    },
    {
     "name": "stdout",
     "output_type": "stream",
     "text": [
      "\n"
     ]
    }
   ],
   "source": [
    "pyquat_times['Norm'] = []\n",
    "quat_times['Norm'] = []\n",
    "rowan_times['Norm'] = []\n",
    "for N in tqdm.tqdm_notebook(Ns):\n",
    "    x = rowan.random.rand(N)\n",
    "\n",
    "    if N < pqlim:\n",
    "        pyquat_times['Norm'].append(\n",
    "            timeit.timeit(\n",
    "                \"for i in range(len(x)): x[i].norm\",\n",
    "                setup=\"from __main__ import x, arr_to_pyquat; x = arr_to_pyquat(x);\",\n",
    "                number = num\n",
    "            )\n",
    "        )\n",
    "    quat_times['Norm'].append(\n",
    "        timeit.timeit(\n",
    "            \"np.abs(x)\",\n",
    "            setup=\"from __main__ import x, np, arr_to_npquat; x = arr_to_npquat(x);\",\n",
    "            number = num\n",
    "        )\n",
    "    )\n",
    "    rowan_times['Norm'].append(\n",
    "        timeit.timeit(\n",
    "            \"rowan.norm(x)\",\n",
    "            setup=\"from __main__ import x, rowan\",\n",
    "            number = num\n",
    "        )\n",
    "    )"
   ]
  },
  {
   "cell_type": "code",
   "execution_count": 9,
   "metadata": {},
   "outputs": [
    {
     "data": {
      "application/vnd.jupyter.widget-view+json": {
       "model_id": "b32cb77dab5e4980aa36a1cae31afae9",
       "version_major": 2,
       "version_minor": 0
      },
      "text/plain": [
       "HBox(children=(IntProgress(value=0, max=2), HTML(value='')))"
      ]
     },
     "metadata": {},
     "output_type": "display_data"
    },
    {
     "name": "stdout",
     "output_type": "stream",
     "text": [
      "\n"
     ]
    }
   ],
   "source": [
    "pyquat_times['To Matrix'] = []\n",
    "quat_times['To Matrix'] = []\n",
    "rowan_times['To Matrix'] = []\n",
    "for N in tqdm.tqdm_notebook(Ns):\n",
    "    x = rowan.random.rand(N)\n",
    "\n",
    "    if N < pqlim:\n",
    "        pyquat_times['To Matrix'].append(\n",
    "            timeit.timeit(\n",
    "                \"for i in range(len(x)): x[i].rotation_matrix\",\n",
    "                setup=\"from __main__ import x, arr_to_pyquat; x = arr_to_pyquat(x);\",\n",
    "                number = num\n",
    "            )\n",
    "        )\n",
    "    quat_times['To Matrix'].append(\n",
    "        timeit.timeit(\n",
    "            \"quaternion.as_rotation_matrix(x)\",\n",
    "            setup=\"from __main__ import x, quaternion, arr_to_npquat; x = arr_to_npquat(x);\",\n",
    "            number = num\n",
    "        )\n",
    "    )\n",
    "    rowan_times['To Matrix'].append(\n",
    "        timeit.timeit(\n",
    "            \"rowan.to_matrix(x)\",\n",
    "            setup=\"from __main__ import x, rowan\",\n",
    "            number = num\n",
    "        )\n",
    "    )"
   ]
  },
  {
   "cell_type": "code",
   "execution_count": 10,
   "metadata": {},
   "outputs": [],
   "source": [
    "pyquat_times['N'] = list(np.array(Ns)[np.array(Ns) < pqlim])\n",
    "quat_times['N'] = Ns\n",
    "rowan_times['N'] = Ns"
   ]
  },
  {
   "cell_type": "code",
   "execution_count": 11,
   "metadata": {},
   "outputs": [],
   "source": [
    "df_pq = pd.DataFrame(pyquat_times).melt(id_vars=\"N\", var_name=\"operation\", value_name=\"pyquaternion\")\n",
    "df_nq = pd.DataFrame(quat_times).melt(id_vars=\"N\", var_name=\"operation\", value_name=\"npquaternion\")\n",
    "df_r = pd.DataFrame(rowan_times).melt(id_vars=\"N\", var_name=\"operation\", value_name=\"rowan\")\n",
    "df = df_r.merge(df_nq, on =[\"N\", \"operation\"])\n",
    "df = df.merge(df_pq, on =[\"N\", \"operation\"], how = \"left\")\n",
    "df.fillna(0, inplace=True)\n",
    "df['pyquaternion'] /= df['N']\n",
    "df['pyquaternion'] *= 1e6\n",
    "df['npquaternion'] /= df['N']\n",
    "df['npquaternion'] *= 1e6\n",
    "df['rowan'] /= df['N']\n",
    "df['rowan'] *= 1e6"
   ]
  },
  {
   "cell_type": "code",
   "execution_count": 12,
   "metadata": {},
   "outputs": [
    {
     "data": {
      "text/html": [
       "<div>\n",
       "<style scoped>\n",
       "    .dataframe tbody tr th:only-of-type {\n",
       "        vertical-align: middle;\n",
       "    }\n",
       "\n",
       "    .dataframe tbody tr th {\n",
       "        vertical-align: top;\n",
       "    }\n",
       "\n",
       "    .dataframe thead th {\n",
       "        text-align: right;\n",
       "    }\n",
       "</style>\n",
       "<table border=\"1\" class=\"dataframe\">\n",
       "  <thead>\n",
       "    <tr style=\"text-align: right;\">\n",
       "      <th></th>\n",
       "      <th></th>\n",
       "      <th>rowan</th>\n",
       "      <th>npquaternion</th>\n",
       "      <th>pyquaternion</th>\n",
       "      <th>rowan vs. npq</th>\n",
       "      <th>pyq vs. rowan</th>\n",
       "    </tr>\n",
       "    <tr>\n",
       "      <th>N</th>\n",
       "      <th>operation</th>\n",
       "      <th></th>\n",
       "      <th></th>\n",
       "      <th></th>\n",
       "      <th></th>\n",
       "      <th></th>\n",
       "    </tr>\n",
       "  </thead>\n",
       "  <tbody>\n",
       "    <tr>\n",
       "      <th rowspan=\"5\" valign=\"top\">10</th>\n",
       "      <th>Conjugate</th>\n",
       "      <td>23.237697</td>\n",
       "      <td>2.315291</td>\n",
       "      <td>1.390104</td>\n",
       "      <td>10.036620</td>\n",
       "      <td>0.059821</td>\n",
       "    </tr>\n",
       "    <tr>\n",
       "      <th>Exponential</th>\n",
       "      <td>149.004895</td>\n",
       "      <td>2.812000</td>\n",
       "      <td>585.971191</td>\n",
       "      <td>52.988930</td>\n",
       "      <td>3.932563</td>\n",
       "    </tr>\n",
       "    <tr>\n",
       "      <th>Multiply</th>\n",
       "      <td>178.562000</td>\n",
       "      <td>3.050198</td>\n",
       "      <td>323.849695</td>\n",
       "      <td>58.541121</td>\n",
       "      <td>1.813654</td>\n",
       "    </tr>\n",
       "    <tr>\n",
       "      <th>Norm</th>\n",
       "      <td>14.563394</td>\n",
       "      <td>1.561700</td>\n",
       "      <td>45.121403</td>\n",
       "      <td>9.325347</td>\n",
       "      <td>3.098275</td>\n",
       "    </tr>\n",
       "    <tr>\n",
       "      <th>To Matrix</th>\n",
       "      <td>189.362897</td>\n",
       "      <td>131.305598</td>\n",
       "      <td>241.195399</td>\n",
       "      <td>1.442154</td>\n",
       "      <td>1.273720</td>\n",
       "    </tr>\n",
       "    <tr>\n",
       "      <th rowspan=\"5\" valign=\"top\">100000</th>\n",
       "      <th>Conjugate</th>\n",
       "      <td>0.148019</td>\n",
       "      <td>0.027224</td>\n",
       "      <td>0.488145</td>\n",
       "      <td>5.436983</td>\n",
       "      <td>3.297859</td>\n",
       "    </tr>\n",
       "    <tr>\n",
       "      <th>Exponential</th>\n",
       "      <td>1.412970</td>\n",
       "      <td>0.607628</td>\n",
       "      <td>358.388081</td>\n",
       "      <td>2.325385</td>\n",
       "      <td>253.641661</td>\n",
       "    </tr>\n",
       "    <tr>\n",
       "      <th>Multiply</th>\n",
       "      <td>0.711105</td>\n",
       "      <td>0.060427</td>\n",
       "      <td>165.849198</td>\n",
       "      <td>11.767986</td>\n",
       "      <td>233.227279</td>\n",
       "    </tr>\n",
       "    <tr>\n",
       "      <th>Norm</th>\n",
       "      <td>0.167210</td>\n",
       "      <td>0.030807</td>\n",
       "      <td>11.734348</td>\n",
       "      <td>5.427719</td>\n",
       "      <td>70.177371</td>\n",
       "    </tr>\n",
       "    <tr>\n",
       "      <th>To Matrix</th>\n",
       "      <td>0.880509</td>\n",
       "      <td>0.887911</td>\n",
       "      <td>160.320364</td>\n",
       "      <td>0.991664</td>\n",
       "      <td>182.076822</td>\n",
       "    </tr>\n",
       "  </tbody>\n",
       "</table>\n",
       "</div>"
      ],
      "text/plain": [
       "                         rowan  npquaternion  pyquaternion  rowan vs. npq  \\\n",
       "N      operation                                                            \n",
       "10     Conjugate     23.237697      2.315291      1.390104      10.036620   \n",
       "       Exponential  149.004895      2.812000    585.971191      52.988930   \n",
       "       Multiply     178.562000      3.050198    323.849695      58.541121   \n",
       "       Norm          14.563394      1.561700     45.121403       9.325347   \n",
       "       To Matrix    189.362897    131.305598    241.195399       1.442154   \n",
       "100000 Conjugate      0.148019      0.027224      0.488145       5.436983   \n",
       "       Exponential    1.412970      0.607628    358.388081       2.325385   \n",
       "       Multiply       0.711105      0.060427    165.849198      11.767986   \n",
       "       Norm           0.167210      0.030807     11.734348       5.427719   \n",
       "       To Matrix      0.880509      0.887911    160.320364       0.991664   \n",
       "\n",
       "                    pyq vs. rowan  \n",
       "N      operation                   \n",
       "10     Conjugate         0.059821  \n",
       "       Exponential       3.932563  \n",
       "       Multiply          1.813654  \n",
       "       Norm              3.098275  \n",
       "       To Matrix         1.273720  \n",
       "100000 Conjugate         3.297859  \n",
       "       Exponential     253.641661  \n",
       "       Multiply        233.227279  \n",
       "       Norm             70.177371  \n",
       "       To Matrix       182.076822  "
      ]
     },
     "execution_count": 12,
     "metadata": {},
     "output_type": "execute_result"
    }
   ],
   "source": [
    "view = df.groupby([\"N\", \"operation\"]).mean()\n",
    "view['rowan vs. npq'] = view['rowan']/view['npquaternion']\n",
    "view['pyq vs. rowan'] = view['pyquaternion']/view['rowan']\n",
    "view"
   ]
  },
  {
   "cell_type": "code",
   "execution_count": 13,
   "metadata": {
    "code_folding": [],
    "scrolled": false
   },
   "outputs": [
    {
     "data": {
      "image/png": "[encoded data removed]",
      "text/plain": [
       "<Figure size 1296x576 with 2 Axes>"
      ]
     },
     "metadata": {},
     "output_type": "display_data"
    }
   ],
   "source": [
    "cols = list(col['color'] for col in plt.rcParams['axes.prop_cycle'])\n",
    "fig, axes = plt.subplots(1, 2, figsize=(18, 8))\n",
    "ax = df[df['N'] == Ns[0]].drop(['N'], axis=1).groupby(\n",
    "    [\"operation\"]).mean().plot.barh(ax=axes[0], logx=True, color = cols[0:3],\n",
    "                                    title=\"$\\log_{{10}}(N) = {}$\".format(int(np.log10(Ns[0]))),\n",
    "                                    xlim=(10**-2, 10**3))\n",
    "ax.set_xlabel(\"$\\log_{10}(sec)$\")\n",
    "ax = df[df['N'] == Ns[1]].drop(['N'], axis=1).groupby(\n",
    "    [\"operation\"]).mean().plot.barh(ax=axes[1], logx=True, color = cols[0:3],\n",
    "                                    title=\"$\\log_{{10}}(N) = {}$\".format(int(np.log10(Ns[1]))),\n",
    "                                    xlim=(10**-2, 10**3))\n",
    "ax.set_xlabel(\"$\\log_{10}(sec)$\")\n",
    "for ax in axes.flatten():\n",
    "    ax.set_ylabel(\"\")\n",
    "plt.show()\n",
    "fig.savefig(\"Performance.png\")"
   ]
  }
 ],
 "metadata": {
  "kernelspec": {
   "display_name": "Python 3",
   "language": "python",
   "name": "python3"
  },
  "language_info": {
   "codemirror_mode": {
    "name": "ipython",
    "version": 3
   },
   "file_extension": ".py",
   "mimetype": "text/x-python",
   "name": "python",
   "nbconvert_exporter": "python",
   "pygments_lexer": "ipython3",
   "version": "3.6.5"
  },
  "toc": {
   "nav_menu": {},
   "number_sections": true,
   "sideBar": true,
   "skip_h1_title": false,
   "title_cell": "Table of Contents",
   "title_sidebar": "Contents",
   "toc_cell": false,
   "toc_position": {},
   "toc_section_display": true,
   "toc_window_display": false
  }
 },
 "nbformat": 4,
 "nbformat_minor": 2
}
