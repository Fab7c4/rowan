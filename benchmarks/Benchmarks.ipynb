{
 "cells": [
  {
   "cell_type": "code",
   "execution_count": 1,
   "metadata": {},
   "outputs": [],
   "source": [
    "import timeit\n",
    "import tqdm\n",
    "import pprint\n",
    "import numpy as np\n",
    "import pandas as pd\n",
    "import matplotlib\n",
    "from matplotlib import pyplot as plt"
   ]
  },
  {
   "cell_type": "code",
   "execution_count": 2,
   "metadata": {},
   "outputs": [],
   "source": [
    "plt.rcParams['text.usetex'] = True\n",
    "plt.rcParams['axes.labelsize'] = 16\n",
    "plt.rcParams['font.size'] = 16\n",
    "plt.rcParams['legend.fontsize'] = 'large'"
   ]
  },
  {
   "cell_type": "code",
   "execution_count": 3,
   "metadata": {},
   "outputs": [
    {
     "name": "stderr",
     "output_type": "stream",
     "text": [
      "/home/vramasub/.local/lib/python3.6/site-packages/quaternion/numba_wrapper.py:29: UserWarning: \n",
      "\n",
      "!!!!!!!!!!!!!!!!!!!!!!!!!!!!!!!!!!!!!!!!!!!!!!!!!!!!!\n",
      "Could not import from either numbapro or numba.\n",
      "This means that the code will run MUCH more slowly.\n",
      "You probably REALLY want to install numba / numbapro.\n",
      "!!!!!!!!!!!!!!!!!!!!!!!!!!!!!!!!!!!!!!!!!!!!!!!!!!!!!\n",
      "\n",
      "  warnings.warn(warning_text)\n"
     ]
    }
   ],
   "source": [
    "import pyquaternion\n",
    "import quaternion\n",
    "import rowan"
   ]
  },
  {
   "cell_type": "code",
   "execution_count": 4,
   "metadata": {},
   "outputs": [],
   "source": [
    "def arr_to_pyquat(arr):\n",
    "    if len(arr.shape) > 1:\n",
    "        pq_arr = np.empty(arr.shape[:-1], dtype='object')\n",
    "        for i in range(len(arr)):\n",
    "            pq_arr[i] = pyquaternion.Quaternion(arr[i])\n",
    "    else:\n",
    "        pq_arr = np.array([pyquaternion.Quaternion(arr)])\n",
    "    return pq_arr\n",
    "\n",
    "def arr_to_npquat(arr):\n",
    "    return quaternion.as_quat_array(arr)\n",
    "\n",
    "pyquat_times = {}\n",
    "quat_times = {}\n",
    "rowan_times = {}\n",
    "#max_log_N = 7\n",
    "#Ns = [10**i for i in range(max_log_N)]\n",
    "Ns = [10, 100000]\n",
    "num = 10\n",
    "pqlim = 1e8"
   ]
  },
  {
   "cell_type": "code",
   "execution_count": 5,
   "metadata": {},
   "outputs": [
    {
     "data": {
      "application/vnd.jupyter.widget-view+json": {
       "model_id": "a692ee1f3ba74f1fa3e2f66a78866a3d"
      }
     },
     "metadata": {},
     "output_type": "display_data"
    },
    {
     "name": "stdout",
     "output_type": "stream",
     "text": [
      "\n"
     ]
    }
   ],
   "source": [
    "pyquat_times['Multiply'] = []\n",
    "quat_times['Multiply'] = []\n",
    "rowan_times['Multiply'] = []\n",
    "for N in tqdm.tqdm_notebook(Ns):\n",
    "    x = rowan.random.rand(N)\n",
    "    y = rowan.random.rand(N)\n",
    "\n",
    "    if N < pqlim:\n",
    "        pyquat_times['Multiply'].append(\n",
    "            timeit.timeit(\n",
    "                \"x*y\",\n",
    "                setup=\"from __main__ import x, y, arr_to_pyquat; x = arr_to_pyquat(x); y = arr_to_pyquat(y)\",\n",
    "                number = num\n",
    "            )\n",
    "        )\n",
    "    quat_times['Multiply'].append(\n",
    "        timeit.timeit(\n",
    "            \"x*y\",\n",
    "            setup=\"from __main__ import x, y, arr_to_npquat; x = arr_to_npquat(x); y = arr_to_npquat(y)\",\n",
    "            number = num\n",
    "        )\n",
    "    )\n",
    "    rowan_times['Multiply'].append(\n",
    "        timeit.timeit(\n",
    "            \"rowan.multiply(x, y)\",\n",
    "            setup=\"from __main__ import x, y, rowan\",\n",
    "            number = num\n",
    "        )\n",
    "    )"
   ]
  },
  {
   "cell_type": "code",
   "execution_count": 6,
   "metadata": {},
   "outputs": [
    {
     "data": {
      "application/vnd.jupyter.widget-view+json": {
       "model_id": "c158c41a089e455e916d53c53f9efd78"
      }
     },
     "metadata": {},
     "output_type": "display_data"
    },
    {
     "name": "stdout",
     "output_type": "stream",
     "text": [
      "\n"
     ]
    }
   ],
   "source": [
    "pyquat_times['Exponential'] = []\n",
    "quat_times['Exponential'] = []\n",
    "rowan_times['Exponential'] = []\n",
    "for N in tqdm.tqdm_notebook(Ns):\n",
    "    x = rowan.random.rand(N)\n",
    "\n",
    "    if N < pqlim:\n",
    "        pyquat_times['Exponential'].append(\n",
    "            timeit.timeit(\n",
    "                \"for i in range(len(x)): pyquaternion.Quaternion.exp(x[i])\",\n",
    "                setup=\"from __main__ import x, pyquaternion, arr_to_pyquat; x = arr_to_pyquat(x);\",\n",
    "                number = num\n",
    "            )\n",
    "        )\n",
    "    quat_times['Exponential'].append(\n",
    "        timeit.timeit(\n",
    "            \"np.exp(x)\",\n",
    "            setup=\"from __main__ import x, arr_to_npquat, np; x = arr_to_npquat(x);\",\n",
    "            number = num\n",
    "        )\n",
    "    )\n",
    "    rowan_times['Exponential'].append(\n",
    "        timeit.timeit(\n",
    "            \"rowan.exp(x)\",\n",
    "            setup=\"from __main__ import x, rowan\",\n",
    "            number = num\n",
    "        )\n",
    "    )"
   ]
  },
  {
   "cell_type": "code",
   "execution_count": 7,
   "metadata": {},
   "outputs": [
    {
     "data": {
      "application/vnd.jupyter.widget-view+json": {
       "model_id": "4711088a8ada4c3c8384c47214d31d62"
      }
     },
     "metadata": {},
     "output_type": "display_data"
    },
    {
     "name": "stdout",
     "output_type": "stream",
     "text": [
      "\n"
     ]
    }
   ],
   "source": [
    "pyquat_times['Conjugate'] = []\n",
    "quat_times['Conjugate'] = []\n",
    "rowan_times['Conjugate'] = []\n",
    "for N in tqdm.tqdm_notebook(Ns):\n",
    "    x = rowan.random.rand(N)\n",
    "\n",
    "    if N < pqlim:\n",
    "        pyquat_times['Conjugate'].append(\n",
    "            timeit.timeit(\n",
    "                \"for i in range(len(x)): x.conjugate\",\n",
    "                setup=\"from __main__ import x, arr_to_pyquat; x = arr_to_pyquat(x);\",\n",
    "                number = num\n",
    "            )\n",
    "        )\n",
    "    quat_times['Conjugate'].append(\n",
    "        timeit.timeit(\n",
    "            \"x.conjugate()\",\n",
    "            setup=\"from __main__ import x, arr_to_npquat; x = arr_to_npquat(x);\",\n",
    "            number = num\n",
    "        )\n",
    "    )\n",
    "    rowan_times['Conjugate'].append(\n",
    "        timeit.timeit(\n",
    "            \"rowan.conjugate(x)\",\n",
    "            setup=\"from __main__ import x, rowan\",\n",
    "            number = num\n",
    "        )\n",
    "    )"
   ]
  },
  {
   "cell_type": "code",
   "execution_count": 8,
   "metadata": {},
   "outputs": [
    {
     "data": {
      "application/vnd.jupyter.widget-view+json": {
       "model_id": "4a8b19a30280478db754ce9b3d30493d"
      }
     },
     "metadata": {},
     "output_type": "display_data"
    },
    {
     "name": "stdout",
     "output_type": "stream",
     "text": [
      "\n"
     ]
    }
   ],
   "source": [
    "pyquat_times['Norm'] = []\n",
    "quat_times['Norm'] = []\n",
    "rowan_times['Norm'] = []\n",
    "for N in tqdm.tqdm_notebook(Ns):\n",
    "    x = rowan.random.rand(N)\n",
    "\n",
    "    if N < pqlim:\n",
    "        pyquat_times['Norm'].append(\n",
    "            timeit.timeit(\n",
    "                \"for i in range(len(x)): x[i].norm\",\n",
    "                setup=\"from __main__ import x, arr_to_pyquat; x = arr_to_pyquat(x);\",\n",
    "                number = num\n",
    "            )\n",
    "        )\n",
    "    quat_times['Norm'].append(\n",
    "        timeit.timeit(\n",
    "            \"np.abs(x)\",\n",
    "            setup=\"from __main__ import x, np, arr_to_npquat; x = arr_to_npquat(x);\",\n",
    "            number = num\n",
    "        )\n",
    "    )\n",
    "    rowan_times['Norm'].append(\n",
    "        timeit.timeit(\n",
    "            \"rowan.norm(x)\",\n",
    "            setup=\"from __main__ import x, rowan\",\n",
    "            number = num\n",
    "        )\n",
    "    )"
   ]
  },
  {
   "cell_type": "code",
   "execution_count": 9,
   "metadata": {},
   "outputs": [
    {
     "data": {
      "application/vnd.jupyter.widget-view+json": {
       "model_id": "f90b2d9439bf4c76982e3aec319fe52b"
      }
     },
     "metadata": {},
     "output_type": "display_data"
    },
    {
     "name": "stdout",
     "output_type": "stream",
     "text": [
      "\n"
     ]
    }
   ],
   "source": [
    "pyquat_times['To Matrix'] = []\n",
    "quat_times['To Matrix'] = []\n",
    "rowan_times['To Matrix'] = []\n",
    "for N in tqdm.tqdm_notebook(Ns):\n",
    "    x = rowan.random.rand(N)\n",
    "\n",
    "    if N < pqlim:\n",
    "        pyquat_times['To Matrix'].append(\n",
    "            timeit.timeit(\n",
    "                \"for i in range(len(x)): x[i].rotation_matrix\",\n",
    "                setup=\"from __main__ import x, arr_to_pyquat; x = arr_to_pyquat(x);\",\n",
    "                number = num\n",
    "            )\n",
    "        )\n",
    "    quat_times['To Matrix'].append(\n",
    "        timeit.timeit(\n",
    "            \"quaternion.as_rotation_matrix(x)\",\n",
    "            setup=\"from __main__ import x, quaternion, arr_to_npquat; x = arr_to_npquat(x);\",\n",
    "            number = num\n",
    "        )\n",
    "    )\n",
    "    rowan_times['To Matrix'].append(\n",
    "        timeit.timeit(\n",
    "            \"rowan.to_matrix(x)\",\n",
    "            setup=\"from __main__ import x, rowan\",\n",
    "            number = num\n",
    "        )\n",
    "    )"
   ]
  },
  {
   "cell_type": "code",
   "execution_count": 10,
   "metadata": {},
   "outputs": [],
   "source": [
    "pyquat_times['N'] = list(np.array(Ns)[np.array(Ns) < pqlim])\n",
    "quat_times['N'] = Ns\n",
    "rowan_times['N'] = Ns"
   ]
  },
  {
   "cell_type": "code",
   "execution_count": 11,
   "metadata": {
    "scrolled": true
   },
   "outputs": [
    {
     "name": "stdout",
     "output_type": "stream",
     "text": [
      "{   'Conjugate': [8.697854354977608e-06, 0.049719461938366294],\n",
      "    'Exponential': [0.004738935036584735, 36.29777322104201],\n",
      "    'Multiply': [0.0023011979646980762, 18.41943288478069],\n",
      "    'N': [10, 100000],\n",
      "    'Norm': [0.0003978859167546034, 1.1691303220577538],\n",
      "    'To Matrix': [0.002479007001966238, 16.60043488908559]}\n",
      "{   'Conjugate': [2.7660978958010674e-05, 0.0026233699172735214],\n",
      "    'Exponential': [2.6322901248931885e-05, 0.06091928598470986],\n",
      "    'Multiply': [1.7660902813076973e-05, 0.006287420867010951],\n",
      "    'N': [10, 100000],\n",
      "    'Norm': [1.0211020708084106e-05, 0.0030802348628640175],\n",
      "    'To Matrix': [0.001374115003272891, 0.0862035898026079]}\n",
      "{   'Conjugate': [0.00021101091988384724, 0.014803183963522315],\n",
      "    'Exponential': [0.0016991300508379936, 0.14439566410146654],\n",
      "    'Multiply': [0.0012474891263991594, 0.07363750506192446],\n",
      "    'N': [10, 100000],\n",
      "    'Norm': [0.00015798211097717285, 0.017006403068080544],\n",
      "    'To Matrix': [0.0018621261697262526, 0.08655957202427089]}\n"
     ]
    }
   ],
   "source": [
    "pp = pprint.PrettyPrinter(indent=4)\n",
    "pp.pprint(pyquat_times)\n",
    "pp.pprint(quat_times)\n",
    "pp.pprint(rowan_times)"
   ]
  },
  {
   "cell_type": "code",
   "execution_count": 12,
   "metadata": {},
   "outputs": [],
   "source": [
    "df_pq = pd.DataFrame(pyquat_times).melt(id_vars=\"N\", var_name=\"operation\", value_name=\"pyquaternion\")\n",
    "df_nq = pd.DataFrame(quat_times).melt(id_vars=\"N\", var_name=\"operation\", value_name=\"npquaternion\")\n",
    "df_r = pd.DataFrame(rowan_times).melt(id_vars=\"N\", var_name=\"operation\", value_name=\"rowan\")\n",
    "df = df_r.merge(df_nq, on =[\"N\", \"operation\"])\n",
    "df = df.merge(df_pq, on =[\"N\", \"operation\"], how = \"left\")\n",
    "df.fillna(0, inplace=True)\n",
    "df['pyquaternion'] /= df['N']\n",
    "df['pyquaternion'] *= 1e6\n",
    "df['npquaternion'] /= df['N']\n",
    "df['npquaternion'] *= 1e6\n",
    "df['rowan'] /= df['N']\n",
    "df['rowan'] *= 1e6"
   ]
  },
  {
   "cell_type": "code",
   "execution_count": 13,
   "metadata": {},
   "outputs": [
    {
     "data": {
      "text/html": [
       "<div>\n",
       "<style scoped>\n",
       "    .dataframe tbody tr th:only-of-type {\n",
       "        vertical-align: middle;\n",
       "    }\n",
       "\n",
       "    .dataframe tbody tr th {\n",
       "        vertical-align: top;\n",
       "    }\n",
       "\n",
       "    .dataframe thead th {\n",
       "        text-align: right;\n",
       "    }\n",
       "</style>\n",
       "<table border=\"1\" class=\"dataframe\">\n",
       "  <thead>\n",
       "    <tr style=\"text-align: right;\">\n",
       "      <th></th>\n",
       "      <th></th>\n",
       "      <th>rowan</th>\n",
       "      <th>npquaternion</th>\n",
       "      <th>pyquaternion</th>\n",
       "      <th>rowan vs. npq</th>\n",
       "      <th>pyq vs. rowan</th>\n",
       "    </tr>\n",
       "    <tr>\n",
       "      <th>N</th>\n",
       "      <th>operation</th>\n",
       "      <th></th>\n",
       "      <th></th>\n",
       "      <th></th>\n",
       "      <th></th>\n",
       "      <th></th>\n",
       "    </tr>\n",
       "  </thead>\n",
       "  <tbody>\n",
       "    <tr>\n",
       "      <th rowspan=\"5\" valign=\"top\">10</th>\n",
       "      <th>Conjugate</th>\n",
       "      <td>21.101092</td>\n",
       "      <td>2.766098</td>\n",
       "      <td>0.869785</td>\n",
       "      <td>7.628469</td>\n",
       "      <td>0.041220</td>\n",
       "    </tr>\n",
       "    <tr>\n",
       "      <th>Exponential</th>\n",
       "      <td>169.913005</td>\n",
       "      <td>2.632290</td>\n",
       "      <td>473.893504</td>\n",
       "      <td>64.549498</td>\n",
       "      <td>2.789036</td>\n",
       "    </tr>\n",
       "    <tr>\n",
       "      <th>Multiply</th>\n",
       "      <td>124.748913</td>\n",
       "      <td>1.766090</td>\n",
       "      <td>230.119796</td>\n",
       "      <td>70.635637</td>\n",
       "      <td>1.844664</td>\n",
       "    </tr>\n",
       "    <tr>\n",
       "      <th>Norm</th>\n",
       "      <td>15.798211</td>\n",
       "      <td>1.021102</td>\n",
       "      <td>39.788592</td>\n",
       "      <td>15.471726</td>\n",
       "      <td>2.518550</td>\n",
       "    </tr>\n",
       "    <tr>\n",
       "      <th>To Matrix</th>\n",
       "      <td>186.212617</td>\n",
       "      <td>137.411500</td>\n",
       "      <td>247.900700</td>\n",
       "      <td>1.355146</td>\n",
       "      <td>1.331278</td>\n",
       "    </tr>\n",
       "    <tr>\n",
       "      <th rowspan=\"5\" valign=\"top\">100000</th>\n",
       "      <th>Conjugate</th>\n",
       "      <td>0.148032</td>\n",
       "      <td>0.026234</td>\n",
       "      <td>0.497195</td>\n",
       "      <td>5.642812</td>\n",
       "      <td>3.358701</td>\n",
       "    </tr>\n",
       "    <tr>\n",
       "      <th>Exponential</th>\n",
       "      <td>1.443957</td>\n",
       "      <td>0.609193</td>\n",
       "      <td>362.977732</td>\n",
       "      <td>2.370278</td>\n",
       "      <td>251.377169</td>\n",
       "    </tr>\n",
       "    <tr>\n",
       "      <th>Multiply</th>\n",
       "      <td>0.736375</td>\n",
       "      <td>0.062874</td>\n",
       "      <td>184.194329</td>\n",
       "      <td>11.711878</td>\n",
       "      <td>250.136569</td>\n",
       "    </tr>\n",
       "    <tr>\n",
       "      <th>Norm</th>\n",
       "      <td>0.170064</td>\n",
       "      <td>0.030802</td>\n",
       "      <td>11.691303</td>\n",
       "      <td>5.521138</td>\n",
       "      <td>68.746478</td>\n",
       "    </tr>\n",
       "    <tr>\n",
       "      <th>To Matrix</th>\n",
       "      <td>0.865596</td>\n",
       "      <td>0.862036</td>\n",
       "      <td>166.004349</td>\n",
       "      <td>1.004130</td>\n",
       "      <td>191.780464</td>\n",
       "    </tr>\n",
       "  </tbody>\n",
       "</table>\n",
       "</div>"
      ],
      "text/plain": [
       "                         rowan  npquaternion  pyquaternion  rowan vs. npq  \\\n",
       "N      operation                                                            \n",
       "10     Conjugate     21.101092      2.766098      0.869785       7.628469   \n",
       "       Exponential  169.913005      2.632290    473.893504      64.549498   \n",
       "       Multiply     124.748913      1.766090    230.119796      70.635637   \n",
       "       Norm          15.798211      1.021102     39.788592      15.471726   \n",
       "       To Matrix    186.212617    137.411500    247.900700       1.355146   \n",
       "100000 Conjugate      0.148032      0.026234      0.497195       5.642812   \n",
       "       Exponential    1.443957      0.609193    362.977732       2.370278   \n",
       "       Multiply       0.736375      0.062874    184.194329      11.711878   \n",
       "       Norm           0.170064      0.030802     11.691303       5.521138   \n",
       "       To Matrix      0.865596      0.862036    166.004349       1.004130   \n",
       "\n",
       "                    pyq vs. rowan  \n",
       "N      operation                   \n",
       "10     Conjugate         0.041220  \n",
       "       Exponential       2.789036  \n",
       "       Multiply          1.844664  \n",
       "       Norm              2.518550  \n",
       "       To Matrix         1.331278  \n",
       "100000 Conjugate         3.358701  \n",
       "       Exponential     251.377169  \n",
       "       Multiply        250.136569  \n",
       "       Norm             68.746478  \n",
       "       To Matrix       191.780464  "
      ]
     },
     "execution_count": 13,
     "metadata": {},
     "output_type": "execute_result"
    }
   ],
   "source": [
    "df[(df['N'] == 100000)].drop('pyquaternion', axis=1)\n",
    "view = df.groupby([\"N\", \"operation\"]).mean()\n",
    "view['rowan vs. npq'] = view['rowan']/view['npquaternion']\n",
    "view['pyq vs. rowan'] = view['pyquaternion']/view['rowan']\n",
    "view"
   ]
  },
  {
   "cell_type": "code",
   "execution_count": 14,
   "metadata": {
    "code_folding": [],
    "scrolled": false
   },
   "outputs": [
    {
     "data": {
      "image/png": "[encoded data removed]",
      "text/plain": [
       "<Figure size 1296x936 with 4 Axes>"
      ]
     },
     "metadata": {},
     "output_type": "display_data"
    }
   ],
   "source": [
    "cols = list(col['color'] for col in plt.rcParams['axes.prop_cycle'])\n",
    "fig, axes = plt.subplots(2, 2, figsize=(18, 13))\n",
    "df[df['N'] == 10].drop(['N', 'pyquaternion'], axis=1).groupby(\n",
    "    [\"operation\"]).mean().plot.barh(ax=axes[0, 0], logx=True, color = cols[0:2], title=\"$\\log_{10}(N) = 1$\")\n",
    "df[df['N'] == 100000].drop(['N', 'pyquaternion'], axis=1).groupby(\n",
    "    [\"operation\"]).mean().plot.barh(ax=axes[0, 1], logx=True, color = cols[0:2], title=\"$\\log_{10}(N) = 6$\")\n",
    "df[df['N'] == 10].drop(['N', 'npquaternion'], axis=1).groupby(\n",
    "    [\"operation\"]).mean().plot.barh(ax=axes[1, 0], logx=True, color = cols[0:4:2], title=\"$\\log_{10}(N) = 1$\")\n",
    "df[df['N'] == 100000].drop(['N', 'npquaternion'], axis=1).groupby(\n",
    "    [\"operation\"]).mean().plot.barh(ax=axes[1, 1], logx=True, color = cols[0:4:2], title=\"$\\log_{10}(N) = 6$\")\n",
    "for ax in axes.flatten():\n",
    "    ax.set_ylabel(\"\")\n",
    "    ax.set_label\n",
    "plt.show()\n",
    "fig.savefig(\"Performance.png\")"
   ]
  }
 ],
 "metadata": {
  "kernelspec": {
   "display_name": "Python 3",
   "language": "python",
   "name": "python3"
  },
  "language_info": {
   "codemirror_mode": {
    "name": "ipython",
    "version": 3
   },
   "file_extension": ".py",
   "mimetype": "text/x-python",
   "name": "python",
   "nbconvert_exporter": "python",
   "pygments_lexer": "ipython3",
   "version": "3.6.5"
  },
  "toc": {
   "nav_menu": {},
   "number_sections": true,
   "sideBar": true,
   "skip_h1_title": false,
   "title_cell": "Table of Contents",
   "title_sidebar": "Contents",
   "toc_cell": false,
   "toc_position": {},
   "toc_section_display": true,
   "toc_window_display": false
  }
 },
 "nbformat": 4,
 "nbformat_minor": 2
}
